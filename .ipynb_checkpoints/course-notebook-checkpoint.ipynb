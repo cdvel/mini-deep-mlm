{
 "cells": [
  {
   "cell_type": "markdown",
   "metadata": {},
   "source": [
    "# Lesson 01: Introduction to Theano\n",
    "\n",
    "Hi, Theano is a Python library for fast numerical computation to aid in the development of deep learning models.\n",
    "\n",
    "At its heart, Theano is a compiler for mathematical expressions in Python. It knows how to take your structures and turn them into very efficient code that uses NumPy and efficient native libraries to run as fast as possible on CPUs or GPUs.\n",
    "\n",
    "The actual syntax of Theano expressions is symbolic, which can be off-putting to beginners used to normal software development. Specifically, expression are defined in the abstract sense, compiled and later actually used to make calculations.\n",
    "\n",
    "In this lesson, your goal is to install Theano and write a small example that demonstrates the symbolic nature of Theano programs.\n",
    "\n",
    "For example, you can install Theano using pip as follows:\n",
    "```\n",
    "sudo pip install Theano\n",
    "```"
   ]
  },
  {
   "cell_type": "code",
   "execution_count": null,
   "metadata": {
    "collapsed": true
   },
   "outputs": [],
   "source": [
    "#A small example of a Theano program that you can use as a starting point is listed below:\n",
    "\n",
    "import theano\n",
    "from theano import tensor\n",
    "# declare two symbolic floating-point scalars\n",
    "a = tensor.dscalar()\n",
    "b = tensor.dscalar()\n",
    "# create a simple expression\n",
    "c = a + b\n",
    "# convert the expression into a callable object that takes (a,b)\n",
    "# values as input and computes a value for c\n",
    "f = theano.function([a,b], c)\n",
    "# bind 1.5 to 'a', 2.5 to 'b', and evaluate 'c'\n",
    "result = f(1.5, 2.5)\n",
    "print(result)\n"
   ]
  },
  {
   "cell_type": "markdown",
   "metadata": {},
   "source": [
    "# Lesson 02:  Introduction to TensorFlow\n",
    "\n",
    "Hi, TensorFlow is a Python library for fast numerical computing created and released by Google. Like Theano, TensorFlow is intended to be used to develop deep learning models.\n",
    "\n",
    "With the backing of Google, perhaps used in some of its production systems and used by the Google DeepMind research group, it is a platform that we cannot ignore.\n",
    "\n",
    "Unlike Theano, TensorFlow does have more of a production focus with a capability to run on CPUs, GPUs and even very large clusters.\n",
    "\n",
    "In this lesson, your goal is to install TensorFlow become familiar with the syntax of the symbolic expressions used in TensorFlow programs.\n",
    "\n",
    "For example, you can install TensorFlow using pip. There are many different versions of TensorFlow, specialized for each platform. Select the right version for your platform on the TensorFlow installation webpage.\n",
    "\n",
    "Used method:\n",
    "\n",
    "```\n",
    "source activate root # root default conda env\n",
    "sudo pip install tensorflow  # basic install no CUDA support\n",
    "\n",
    "```\n",
    "\n",
    "\n"
   ]
  },
  {
   "cell_type": "code",
   "execution_count": null,
   "metadata": {
    "collapsed": true
   },
   "outputs": [],
   "source": [
    "#A small example of a TensorFlow program that you can use as a starting point is listed below:\n",
    "\n",
    "import tensorflow as tf\n",
    "# declare two symbolic floating-point scalars\n",
    "a = tf.placeholder(tf.float32)\n",
    "b = tf.placeholder(tf.float32)\n",
    "# create a simple symbolic expression using the add function\n",
    "add = tf.add(a, b)\n",
    "# bind 1.5 to ' a ' , 2.5 to ' b ' , and evaluate ' c '\n",
    "sess = tf.Session()\n",
    "binding = {a: 1.5, b: 2.5}\n",
    "c = sess.run(add, feed_dict=binding)\n",
    "print(c)\n"
   ]
  },
  {
   "cell_type": "markdown",
   "metadata": {},
   "source": [
    "# Lesson 03: Intro to Keras\n",
    "\n",
    "Hi, a difficulty of both Theano and TensorFlow is that it can take a lot of code to create even very simple neural network models.\n",
    "\n",
    "These libraries were designed primarily as a platform for research and development more than for the practical concerns of applied deep learning.\n",
    "\n",
    "The Keras library addresses these concerns by providing a wrapper for both Theano and TensorFlow. It provides a clean and simple API that allows you to define and evaluate deep learning models in just a few lines of code.\n",
    "\n",
    "Because of the ease of use and because it leverages the power of Theano and TensorFlow, Keras is quickly becoming the go-to library for applied deep learning.\n",
    "\n",
    "The focus of Keras is the concept of a model. The life-cycle of a model can be summarized as follows:\n",
    "\n",
    "1. Define your model. Create a Sequential model and add configured layers.\n",
    "\n",
    "2. Compile your model. Specify loss function and optimizers and call the compile() function on the model.\n",
    "\n",
    "3. Fit your model. Train the model on a sample of data by calling the fit() function on the model.\n",
    "\n",
    "4. Make predictions. Use the model to generate predictions on new data by calling functions such as evaluate() or predict() on the model.\n",
    "\n",
    "Your goal for this lesson is to install Keras.\n",
    "\n",
    "For example, you can install Keras using pip:\n",
    "\n",
    "```sudo pip install keras```\n",
    "\n",
    "Start to familiarize yourself with the Keras library ready for the upcoming lessons where we will implement our first model.\n",
    "\n"
   ]
  },
  {
   "cell_type": "markdown",
   "metadata": {},
   "source": [
    "# Lesson 04: Crash Course in Multi-Layer Perceptrons\n",
    "\n",
    "Hi, artificial neural networks are a fascinating area of study, although they can be intimidating when just getting started.\n",
    "\n",
    "The field of artificial neural networks is often just called neural networks or multi-layer Perceptrons after perhaps the most useful type of neural network.\n",
    "\n",
    "The building block for neural networks are artificial neurons. These are simple computational units that have weighted input signals and produce an output signal using an activation function.\n",
    "\n",
    "Neurons are arranged into networks of neurons. A row of neurons is called a layer and one network can have multiple layers. The architecture of the neurons in the network is often called the network topology.\n",
    "\n",
    "Once configured, the neural network needs to be trained on your dataset. The classical and still preferred training algorithm for neural networks is called stochastic gradient descent.\n",
    "\n",
    "Your goal for this lesson is to become familiar with neural network terminology.\n",
    "\n",
    "Dig a little deeper into terms like neuron, weights, activation function, learning rate and more.\n",
    "\n",
    "-----\n",
    "\n",
    "See [A Basic Introduction To Neural Networks](http://pages.cs.wisc.edu/~bolo/shipyard/neural/local.html)"
   ]
  },
  {
   "cell_type": "markdown",
   "metadata": {},
   "source": [
    "# Lesson 5: Your First Neural Network in Keras\n",
    "\n",
    "Hi, Keras allows you to develop and evaluate deep learning models in very few lines of code.\n",
    "\n",
    "In this lesson, your goal is to develop your first neural network using the Keras library.\n",
    "\n",
    "Use a standard binary (two-class) classification dataset from the UCI Machine Learning Repository, like the Pima Indians onset of diabetes or the ionosphere datasets.\n",
    "\n",
    "Piece together code to achieve the following:\n",
    "Load your dataset using NumPy or Pandas.\n",
    "Define your neural network model and compile it.\n",
    "Fit your model to the dataset.\n",
    "Estimate the performance of your model on unseen data.\n",
    "To give you a massive head-start below is a complete working example that you can use as a starting point.\n",
    "\n",
    "It assumes that you have downloaded the Pima Indians dataset to your current working directory with the filename pima-indians-diabetes.csv.\n",
    "\n",
    "\n",
    "\n",
    "Afterwards, develop your own model on a different dataset, or adapt this example.\n",
    "\n",
    "Learn more about the Keras API for simple model development."
   ]
  },
  {
   "cell_type": "code",
   "execution_count": null,
   "metadata": {
    "collapsed": false
   },
   "outputs": [],
   "source": [
    "\n",
    "# Create first network with Keras\n",
    "import Keras as keras\n",
    "from keras.models import Sequential\n",
    "from keras.layers import Dense\n",
    "import numpy\n",
    "# fix random seed for reproducibility\n",
    "seed = 7\n",
    "numpy.random.seed(seed)\n",
    "# load pima indians dataset\n",
    "dataset = numpy.loadtxt(\"pima-indians-diabetes.csv\", delimiter=\",\")\n",
    "# split into input (X) and output (Y) variables\n",
    "X = dataset[:,0:8]\n",
    "Y = dataset[:,8]\n",
    "# create model\n",
    "model = Sequential()\n",
    "model.add(Dense(12, input_dim=8, kernel_initializer='uniform', activation='relu'))\n",
    "model.add(Dense(8, kernel_initializer='uniform', activation='relu'))\n",
    "model.add(Dense(1, kernel_initializer='uniform', activation='sigmoid'))\n",
    "# Compile model\n",
    "model.compile(loss='binary_crossentropy' , optimizer='adam', metrics=['accuracy'])\n",
    "# Fit the model\n",
    "model.fit(X, Y, epochs=150, batch_size=10)\n",
    "# evaluate the model\n",
    "scores = model.evaluate(X, Y)\n",
    "print(\"%s: %.2f%%\" % (model.metrics_names[1], scores[1]*100))\n"
   ]
  },
  {
   "cell_type": "code",
   "execution_count": null,
   "metadata": {
    "collapsed": true
   },
   "outputs": [],
   "source": []
  }
 ],
 "metadata": {
  "anaconda-cloud": {},
  "kernelspec": {
   "display_name": "Python [conda root]",
   "language": "python",
   "name": "conda-root-py"
  },
  "language_info": {
   "codemirror_mode": {
    "name": "ipython",
    "version": 2
   },
   "file_extension": ".py",
   "mimetype": "text/x-python",
   "name": "python",
   "nbconvert_exporter": "python",
   "pygments_lexer": "ipython2",
   "version": "2.7.12"
  }
 },
 "nbformat": 4,
 "nbformat_minor": 1
}
